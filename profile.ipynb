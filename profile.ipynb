{
 "cells": [
  {
   "cell_type": "markdown",
   "metadata": {},
   "source": [
    "### Some profiling results\n",
    "\n",
    "Running environment:\n",
    "- OS: Ubuntu 20.04.4 LTS\n",
    "- Processor: 11th Gen i7-1185G7 @ 3.00GHz\n",
    "- Memory: 8 GB"
   ]
  },
  {
   "cell_type": "code",
   "execution_count": 1,
   "metadata": {},
   "outputs": [],
   "source": [
    "import random\n",
    "import numpy as np\n",
    "from compass.model import CompassModel\n",
    "from compass.parameters import FLAGS\n",
    "\n",
    "# import cProfile\n",
    "\n",
    "# Set seeds for reproducibility\n",
    "random.seed(3)\n",
    "np.random.seed(3)\n",
    "\n",
    "\n",
    "# Initialize\n",
    "size = 70\n",
    "FLAGS.n_neighbourhoods = 25\n",
    "FLAGS.n_schools = 25\n",
    "FLAGS.max_res_steps = 50\n",
    "FLAGS.max_school_steps = 50\n",
    "FLAGS.width = size\n",
    "FLAGS.height = size\n",
    "FLAGS.conv_threshold = 0\n",
    "FLAGS.window_size = 30\n",
    "FLAGS.loglevel = \"DEBUG\"\n",
    "FLAGS.max_move_fraction = 0.05\n",
    "FLAGS.verbose = False\n",
    "FLAGS.random_residential = False"
   ]
  },
  {
   "cell_type": "code",
   "execution_count": 2,
   "metadata": {},
   "outputs": [],
   "source": [
    "# The Amsterdam case\n",
    "\n",
    "FLAGS.case = \"amsterdam\""
   ]
  },
  {
   "cell_type": "code",
   "execution_count": 3,
   "metadata": {},
   "outputs": [
    {
     "name": "stderr",
     "output_type": "stream",
     "text": [
      "/home/jiqi/workspace/school-choice/compass/utils.py:646: RuntimeWarning: divide by zero encountered in log\n",
      "  log_r_jm = np.nan_to_num(np.log(r_jm))\n"
     ]
    },
    {
     "name": "stdout",
     "output_type": "stream",
     "text": [
      "Saving data...\n",
      "Data saved!\n",
      "Warning: resetting households while there already are Household objects.\n"
     ]
    },
    {
     "name": "stderr",
     "output_type": "stream",
     "text": [
      "/home/jiqi/workspace/school-choice/compass/utils.py:646: RuntimeWarning: divide by zero encountered in log\n",
      "  log_r_jm = np.nan_to_num(np.log(r_jm))\n"
     ]
    },
    {
     "name": "stdout",
     "output_type": "stream",
     "text": [
      "Saving data...\n",
      "Data saved!\n",
      "Warning: resetting households while there already are Household objects.\n"
     ]
    },
    {
     "name": "stderr",
     "output_type": "stream",
     "text": [
      "/home/jiqi/workspace/school-choice/compass/utils.py:646: RuntimeWarning: divide by zero encountered in log\n",
      "  log_r_jm = np.nan_to_num(np.log(r_jm))\n"
     ]
    },
    {
     "name": "stdout",
     "output_type": "stream",
     "text": [
      "Saving data...\n",
      "Data saved!\n",
      "Warning: resetting households while there already are Household objects.\n"
     ]
    },
    {
     "name": "stderr",
     "output_type": "stream",
     "text": [
      "/home/jiqi/workspace/school-choice/compass/utils.py:646: RuntimeWarning: divide by zero encountered in log\n",
      "  log_r_jm = np.nan_to_num(np.log(r_jm))\n"
     ]
    },
    {
     "name": "stdout",
     "output_type": "stream",
     "text": [
      "Saving data...\n",
      "Data saved!\n",
      "Warning: resetting households while there already are Household objects.\n"
     ]
    },
    {
     "name": "stderr",
     "output_type": "stream",
     "text": [
      "/home/jiqi/workspace/school-choice/compass/utils.py:646: RuntimeWarning: divide by zero encountered in log\n",
      "  log_r_jm = np.nan_to_num(np.log(r_jm))\n"
     ]
    },
    {
     "name": "stdout",
     "output_type": "stream",
     "text": [
      "Saving data...\n",
      "Data saved!\n",
      "Warning: resetting households while there already are Household objects.\n"
     ]
    },
    {
     "name": "stderr",
     "output_type": "stream",
     "text": [
      "/home/jiqi/workspace/school-choice/compass/utils.py:646: RuntimeWarning: divide by zero encountered in log\n",
      "  log_r_jm = np.nan_to_num(np.log(r_jm))\n"
     ]
    },
    {
     "name": "stdout",
     "output_type": "stream",
     "text": [
      "Saving data...\n",
      "Data saved!\n",
      "Warning: resetting households while there already are Household objects.\n"
     ]
    },
    {
     "name": "stderr",
     "output_type": "stream",
     "text": [
      "/home/jiqi/workspace/school-choice/compass/utils.py:646: RuntimeWarning: divide by zero encountered in log\n",
      "  log_r_jm = np.nan_to_num(np.log(r_jm))\n"
     ]
    },
    {
     "name": "stdout",
     "output_type": "stream",
     "text": [
      "Saving data...\n",
      "Data saved!\n",
      "Warning: resetting households while there already are Household objects.\n"
     ]
    },
    {
     "name": "stderr",
     "output_type": "stream",
     "text": [
      "/home/jiqi/workspace/school-choice/compass/utils.py:646: RuntimeWarning: divide by zero encountered in log\n",
      "  log_r_jm = np.nan_to_num(np.log(r_jm))\n"
     ]
    },
    {
     "name": "stdout",
     "output_type": "stream",
     "text": [
      "Saving data...\n",
      "Data saved!\n",
      "24.6 s ± 5.35 s per loop (mean ± std. dev. of 7 runs, 1 loop each)\n"
     ]
    }
   ],
   "source": [
    "%%timeit \n",
    "\n",
    "model = CompassModel(vars(FLAGS), export=True)\n",
    "model.simulate()"
   ]
  },
  {
   "cell_type": "code",
   "execution_count": 4,
   "metadata": {},
   "outputs": [],
   "source": [
    "# The lattice case\n",
    "\n",
    "FLAGS.case = \"lattice\""
   ]
  },
  {
   "cell_type": "code",
   "execution_count": 5,
   "metadata": {},
   "outputs": [
    {
     "name": "stdout",
     "output_type": "stream",
     "text": [
      "Warning: resetting households while there already are Household objects.\n",
      "Saving data...\n",
      "Data saved!\n",
      "Warning: resetting households while there already are Household objects.\n",
      "Saving data...\n",
      "Data saved!\n",
      "Warning: resetting households while there already are Household objects.\n",
      "Saving data...\n",
      "Data saved!\n",
      "Warning: resetting households while there already are Household objects.\n",
      "Saving data...\n",
      "Data saved!\n",
      "Warning: resetting households while there already are Household objects.\n",
      "Saving data...\n",
      "Data saved!\n",
      "Warning: resetting households while there already are Household objects.\n",
      "Saving data...\n",
      "Data saved!\n",
      "Warning: resetting households while there already are Household objects.\n",
      "Saving data...\n",
      "Data saved!\n",
      "Warning: resetting households while there already are Household objects.\n",
      "Saving data...\n",
      "Data saved!\n",
      "4.99 s ± 863 ms per loop (mean ± std. dev. of 7 runs, 1 loop each)\n"
     ]
    }
   ],
   "source": [
    "%%timeit\n",
    "\n",
    "model = CompassModel(vars(FLAGS), export=True)\n",
    "model.simulate()"
   ]
  }
 ],
 "metadata": {
  "kernelspec": {
   "display_name": "Python 3.10.4 ('mesa')",
   "language": "python",
   "name": "python3"
  },
  "language_info": {
   "codemirror_mode": {
    "name": "ipython",
    "version": 3
   },
   "file_extension": ".py",
   "mimetype": "text/x-python",
   "name": "python",
   "nbconvert_exporter": "python",
   "pygments_lexer": "ipython3",
   "version": "3.10.4"
  },
  "orig_nbformat": 4,
  "vscode": {
   "interpreter": {
    "hash": "27ba5fdc77055d3b2e0a062cb1814fbbf6c2b9a3657785f3424289151853cfe6"
   }
  }
 },
 "nbformat": 4,
 "nbformat_minor": 2
}
