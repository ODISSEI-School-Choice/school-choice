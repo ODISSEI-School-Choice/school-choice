{
 "cells": [
  {
   "cell_type": "code",
   "execution_count": 1,
   "metadata": {},
   "outputs": [],
   "source": [
    "import numpy as np\n",
    "from compass.model import CompassModel\n",
    "from compass.parameters import FLAGS\n",
    "import random\n",
    "from datetime import datetime\n",
    "import seaborn as sns\n",
    "import pandas as pd\n",
    "import tracemalloc\n",
    "\n",
    "random.seed(3)\n",
    "np.random.seed(3)\n",
    "\n",
    "# Initialize\n",
    "FLAGS.max_res_steps = 50\n",
    "FLAGS.max_school_steps = 50\n",
    "FLAGS.conv_threshold = 0\n",
    "FLAGS.window_size = 30\n",
    "FLAGS.loglevel = \"DEBUG\"\n",
    "FLAGS.case = 'lattice'\n",
    "FLAGS.max_move_fraction = 0.05\n",
    "FLAGS.verbose = False\n",
    "FLAGS.random_residential = True"
   ]
  },
  {
   "cell_type": "code",
   "execution_count": 2,
   "metadata": {},
   "outputs": [
    {
     "name": "stdout",
     "output_type": "stream",
     "text": [
      "step: 0\n",
      "step: 1\n",
      "Warning: resetting households while there already are Household objects.\n"
     ]
    },
    {
     "name": "stderr",
     "output_type": "stream",
     "text": [
      "/home/jiqi/workspace/school-choice/compass/utils.py:646: RuntimeWarning: divide by zero encountered in log\n",
      "  log_r_jm = np.nan_to_num(np.log(r_jm))\n"
     ]
    },
    {
     "name": "stdout",
     "output_type": "stream",
     "text": [
      "step: 2\n",
      "Warning: resetting households while there already are Household objects.\n"
     ]
    },
    {
     "name": "stderr",
     "output_type": "stream",
     "text": [
      "/home/jiqi/workspace/school-choice/compass/utils.py:646: RuntimeWarning: divide by zero encountered in log\n",
      "  log_r_jm = np.nan_to_num(np.log(r_jm))\n",
      "/home/jiqi/workspace/school-choice/compass/utils.py:646: RuntimeWarning: divide by zero encountered in log\n",
      "  log_r_jm = np.nan_to_num(np.log(r_jm))\n"
     ]
    },
    {
     "name": "stdout",
     "output_type": "stream",
     "text": [
      "step: 3\n",
      "Warning: resetting households while there already are Household objects.\n"
     ]
    },
    {
     "name": "stderr",
     "output_type": "stream",
     "text": [
      "/home/jiqi/workspace/school-choice/compass/utils.py:646: RuntimeWarning: divide by zero encountered in log\n",
      "  log_r_jm = np.nan_to_num(np.log(r_jm))\n"
     ]
    },
    {
     "name": "stdout",
     "output_type": "stream",
     "text": [
      "step: 4\n",
      "Warning: resetting households while there already are Household objects.\n"
     ]
    },
    {
     "name": "stderr",
     "output_type": "stream",
     "text": [
      "/home/jiqi/workspace/school-choice/compass/utils.py:646: RuntimeWarning: divide by zero encountered in log\n",
      "  log_r_jm = np.nan_to_num(np.log(r_jm))\n"
     ]
    },
    {
     "name": "stdout",
     "output_type": "stream",
     "text": [
      "step: 5\n",
      "Warning: resetting households while there already are Household objects.\n"
     ]
    },
    {
     "name": "stderr",
     "output_type": "stream",
     "text": [
      "/home/jiqi/workspace/school-choice/compass/utils.py:646: RuntimeWarning: divide by zero encountered in log\n",
      "  log_r_jm = np.nan_to_num(np.log(r_jm))\n"
     ]
    }
   ],
   "source": [
    "# Plots: runtime/memory vs. n_neighbourhoods\n",
    "# Fixed size of grid and household density\n",
    "# Increased number of schools\n",
    "steps = [\n",
    "    {\"size\": 100, \"n_neighbourhoods\": 25}, \n",
    "    {\"size\": 100, \"n_neighbourhoods\": 100}, \n",
    "    {\"size\": 100, \"n_neighbourhoods\": 225}, \n",
    "    {\"size\": 100, \"n_neighbourhoods\": 400}, \n",
    "    {\"size\": 100, \"n_neighbourhoods\": 625}, \n",
    "    {\"size\": 100, \"n_neighbourhoods\": 900}, \n",
    "]\n",
    "runtime = []\n",
    "memory = []\n",
    "\n",
    "tracemalloc.start()\n",
    "for i, s in enumerate(steps):\n",
    "    print(\"step: %d\" % i)\n",
    "    FLAGS.n_neighbourhoods = FLAGS.n_schools = s[\"n_neighbourhoods\"]\n",
    "    FLAGS.width = FLAGS.height = s[\"size\"]\n",
    "\n",
    "    model = CompassModel(vars(FLAGS), export=False)\n",
    "    start = datetime.now()\n",
    "    tracemalloc.reset_peak()\n",
    "    model.simulate()\n",
    "    memory.append(tracemalloc.get_traced_memory()[1] / 1000000.0)\n",
    "    runtime.append(datetime.now() - start)\n",
    "    del model\n",
    "tracemalloc.stop()"
   ]
  },
  {
   "cell_type": "code",
   "execution_count": 3,
   "metadata": {},
   "outputs": [
    {
     "data": {
      "image/png": "[encoded data removed]",
      "text/plain": [
       "<Figure size 432x288 with 2 Axes>"
      ]
     },
     "metadata": {
      "needs_background": "light"
     },
     "output_type": "display_data"
    }
   ],
   "source": [
    "x = [s[\"n_neighbourhoods\"] for s in steps]\n",
    "y = [rt.total_seconds() for rt in runtime]\n",
    "z = memory\n",
    "df = pd.DataFrame(list(zip(x, y, z)), columns=[\"n_neighbourhoods\", \"runtime\", \"memory\"])\n",
    "ax = sns.lineplot(x=\"n_neighbourhoods\", y=\"runtime\", data=df, marker=\"o\", color=\"b\")\n",
    "ax2 = ax.twinx()\n",
    "sns.lineplot(x=\"n_neighbourhoods\", y=\"memory\", data=df, ax=ax2, color=\"r\", marker=\"o\")\n",
    "ax.set_xlabel(\"Number of Neighbourhoods (Schools)\")\n",
    "ax.set_ylabel(\"Runtime (seconds)\")\n",
    "ax2.set_ylabel(\"Approximate Memory Usage (MBs)\")\n",
    "ax.yaxis.label.set_color(\"blue\")\n",
    "ax2.yaxis.label.set_color(\"red\")\n",
    "ax2.spines[\"left\"].set_color(\"blue\")\n",
    "ax2.spines[\"right\"].set_color(\"red\")\n",
    "ax.tick_params(axis=\"y\", colors=\"blue\")\n",
    "ax2.tick_params(axis=\"y\", colors=\"red\")\n",
    "ax.grid(axis=\"x\")"
   ]
  },
  {
   "cell_type": "code",
   "execution_count": 2,
   "metadata": {},
   "outputs": [
    {
     "name": "stdout",
     "output_type": "stream",
     "text": [
      "step: 0\n",
      "step: 1\n",
      "Warning: resetting households while there already are Household objects.\n",
      "step: 2\n",
      "Warning: resetting households while there already are Household objects.\n",
      "step: 3\n",
      "Warning: resetting households while there already are Household objects.\n",
      "step: 4\n",
      "Warning: resetting households while there already are Household objects.\n"
     ]
    }
   ],
   "source": [
    "# Plots: runtime/memory vs. n_households\n",
    "# Fixed number of schools: 25\n",
    "# Fixed household_density: 0.9\n",
    "# Increased size of grid: range(70, 130, 10)\n",
    "steps = [\n",
    "    {\"size\": 100, \"n_neighbourhoods\": 25}, \n",
    "    {\"size\": 200, \"n_neighbourhoods\": 25}, \n",
    "    {\"size\": 300, \"n_neighbourhoods\": 25}, \n",
    "    {\"size\": 400, \"n_neighbourhoods\": 25}, \n",
    "    {\"size\": 500, \"n_neighbourhoods\": 25}, \n",
    "]\n",
    "runtime = []\n",
    "memory = []\n",
    "\n",
    "tracemalloc.start()\n",
    "for i, s in enumerate(steps):\n",
    "    print(\"step: %d\" % i)\n",
    "    FLAGS.n_neighbourhoods = FLAGS.n_schools = s[\"n_neighbourhoods\"]\n",
    "    FLAGS.width = FLAGS.height = s[\"size\"]\n",
    "\n",
    "    model = CompassModel(vars(FLAGS), export=False)\n",
    "    start = datetime.now()\n",
    "    tracemalloc.reset_peak()\n",
    "    model.simulate()\n",
    "    memory.append(tracemalloc.get_traced_memory()[1] / 1000000.0)\n",
    "    runtime.append(datetime.now() - start)\n",
    "    del model\n",
    "tracemalloc.stop()"
   ]
  },
  {
   "cell_type": "code",
   "execution_count": 3,
   "metadata": {},
   "outputs": [
    {
     "data": {
      "image/png": "[encoded data removed]",
      "text/plain": [
       "<Figure size 432x288 with 2 Axes>"
      ]
     },
     "metadata": {
      "needs_background": "light"
     },
     "output_type": "display_data"
    }
   ],
   "source": [
    "x = [s[\"size\"]**2 * 0.9 for s in steps]\n",
    "y = [rt.total_seconds() for rt in runtime]\n",
    "z = memory\n",
    "df = pd.DataFrame(list(zip(x, y, z)), columns=[\"n_neighbourhoods\", \"runtime\", \"memory\"])\n",
    "ax = sns.lineplot(x=\"n_neighbourhoods\", y=\"runtime\", data=df, marker=\"o\", color=\"b\")\n",
    "ax2 = ax.twinx()\n",
    "sns.lineplot(x=\"n_neighbourhoods\", y=\"memory\", data=df, ax=ax2, color=\"r\", marker=\"o\")\n",
    "ax.set_xlabel(\"Number of Students (Households)\")\n",
    "ax.set_ylabel(\"Runtime (seconds)\")\n",
    "ax2.set_ylabel(\"Approximate Memory Usage (MBs)\")\n",
    "ax.yaxis.label.set_color(\"blue\")\n",
    "ax2.yaxis.label.set_color(\"red\")\n",
    "ax2.spines[\"left\"].set_color(\"blue\")\n",
    "ax2.spines[\"right\"].set_color(\"red\")\n",
    "ax.tick_params(axis=\"y\", colors=\"blue\")\n",
    "ax2.tick_params(axis=\"y\", colors=\"red\")\n",
    "ax.grid(axis=\"x\")"
   ]
  }
 ],
 "metadata": {
  "kernelspec": {
   "display_name": "Python 3.10.4 ('mesa')",
   "language": "python",
   "name": "python3"
  },
  "language_info": {
   "codemirror_mode": {
    "name": "ipython",
    "version": 3
   },
   "file_extension": ".py",
   "mimetype": "text/x-python",
   "name": "python",
   "nbconvert_exporter": "python",
   "pygments_lexer": "ipython3",
   "version": "3.10.4"
  },
  "orig_nbformat": 4,
  "vscode": {
   "interpreter": {
    "hash": "27ba5fdc77055d3b2e0a062cb1814fbbf6c2b9a3657785f3424289151853cfe6"
   }
  }
 },
 "nbformat": 4,
 "nbformat_minor": 2
}
