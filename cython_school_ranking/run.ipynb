{
 "cells": [
  {
   "cell_type": "code",
   "execution_count": 1,
   "metadata": {},
   "outputs": [],
   "source": [
    "import numpy as np\n",
    "from numpy import random\n",
    "from pyranking import Household, School\n",
    "\n",
    "random.seed(13)\n",
    "\n",
    "n_households = 7000\n",
    "n_schools = 200\n",
    "dtype = \"float64\"\n",
    "\n",
    "# arbitrary parameters\n",
    "alpha = random.rand(n_households)\n",
    "optimal_fraction = random.rand(n_households)\n",
    "utility_at_max = random.rand(n_households)\n",
    "categories = random.randint(2, size=n_households)\n",
    "distance_utilities = random.rand(n_households, n_schools)\n",
    "household_utilities = random.rand(n_households)\n",
    "\n",
    "# create agents\n",
    "households = []\n",
    "schools = []\n",
    "for i in range(n_households):\n",
    "    households.append(Household(i))\n",
    "for i in range(n_schools):\n",
    "    schools.append(School(i))"
   ]
  },
  {
   "cell_type": "code",
   "execution_count": 2,
   "metadata": {},
   "outputs": [
    {
     "name": "stdout",
     "output_type": "stream",
     "text": [
      "121 ms ± 3.87 ms per loop (mean ± std. dev. of 10 runs, 10 loops each)\n"
     ]
    }
   ],
   "source": [
    "from pyranking import calc_school_rankings\n",
    "\n",
    "%timeit -r10 -n10 calc_school_rankings(households, schools, alpha, optimal_fraction, utility_at_max, categories, distance_utilities, household_utilities, dtype)\n",
    "\n",
    "# # check result\n",
    "# for s in households[0].students[0].school_preference:\n",
    "#     print(s.idx)"
   ]
  },
  {
   "cell_type": "code",
   "execution_count": 3,
   "metadata": {},
   "outputs": [
    {
     "name": "stdout",
     "output_type": "stream",
     "text": [
      "130 ms ± 5.62 ms per loop (mean ± std. dev. of 10 runs, 10 loops each)\n"
     ]
    }
   ],
   "source": [
    "from cyranking import calc_school_rankings\n",
    "\n",
    "%timeit -r10 -n10 calc_school_rankings(households, schools, alpha, optimal_fraction, utility_at_max, categories, distance_utilities, household_utilities)\n",
    "\n",
    "# # check result\n",
    "# for s in households[0].students[0].school_preference:\n",
    "#     print(s.idx)"
   ]
  }
 ],
 "metadata": {
  "interpreter": {
   "hash": "27ba5fdc77055d3b2e0a062cb1814fbbf6c2b9a3657785f3424289151853cfe6"
  },
  "kernelspec": {
   "display_name": "Python 3.10.4 ('mesa')",
   "language": "python",
   "name": "python3"
  },
  "language_info": {
   "codemirror_mode": {
    "name": "ipython",
    "version": 3
   },
   "file_extension": ".py",
   "mimetype": "text/x-python",
   "name": "python",
   "nbconvert_exporter": "python",
   "pygments_lexer": "ipython3",
   "version": "3.10.4"
  },
  "orig_nbformat": 4
 },
 "nbformat": 4,
 "nbformat_minor": 2
}
