{
 "cells": [
  {
   "cell_type": "code",
   "execution_count": 1,
   "metadata": {},
   "outputs": [],
   "source": [
    "from ranking import calc_school_rankings, Household, School\n",
    "import numpy as np\n",
    "from numpy import random\n",
    "\n",
    "# define the agents\n",
    "n_households = 7000\n",
    "n_schools = 200\n",
    "\n",
    "households = []\n",
    "schools = []\n",
    "\n",
    "for i in range(n_households):\n",
    "    households.append(Household(i))\n",
    "for i in range(n_schools):\n",
    "    schools.append(School())\n",
    "\n",
    "# define the measurements\n",
    "dtype = \"float64\"\n",
    "\n",
    "alpha = random.rand(n_households)\n",
    "optimal_fraction = random.rand(n_households)\n",
    "utility_at_max = random.rand(n_households)\n",
    "categories = random.randint(2, size=n_households)\n",
    "distance_utilities = random.rand(n_households, n_schools)\n",
    "household_utilities = random.rand(n_households)"
   ]
  },
  {
   "cell_type": "code",
   "execution_count": 2,
   "metadata": {},
   "outputs": [],
   "source": [
    "# result of Python code\n",
    "%timeit -r10 -n10 calc_school_rankings(households, schools, alpha, optimal_fraction, utility_at_max, categories, distance_utilities, household_utilities, dtype)"
   ]
  }
 ],
 "metadata": {
  "interpreter": {
   "hash": "27ba5fdc77055d3b2e0a062cb1814fbbf6c2b9a3657785f3424289151853cfe6"
  },
  "kernelspec": {
   "display_name": "Python 3.10.4 ('mesa')",
   "language": "python",
   "name": "python3"
  },
  "language_info": {
   "codemirror_mode": {
    "name": "ipython",
    "version": 3
   },
   "file_extension": ".py",
   "mimetype": "text/x-python",
   "name": "python",
   "nbconvert_exporter": "python",
   "pygments_lexer": "ipython3",
   "version": "3.10.4"
  },
  "orig_nbformat": 4
 },
 "nbformat": 4,
 "nbformat_minor": 2
}
